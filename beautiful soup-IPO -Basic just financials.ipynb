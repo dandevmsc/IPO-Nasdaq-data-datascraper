{
 "cells": [
  {
   "cell_type": "code",
   "execution_count": 1,
   "metadata": {},
   "outputs": [],
   "source": [
    "from urllib.request import urlopen as uReq\n",
    "import urllib.request\n",
    "from bs4 import BeautifulSoup as soup\n",
    "import pandas as pd\n",
    "import numpy as np\n",
    "import pickle\n",
    "from datetime import datetime, timedelta, date\n",
    "import csv\n",
    "import re\n",
    "import os\n",
    "import time\n",
    "from urllib.request import Request, urlopen\n",
    "\n",
    "my_url = 'http://www.nasdaq.com/markets/ipos/activity.aspx?tab=pricings'\n"
   ]
  },
  {
   "cell_type": "code",
   "execution_count": 5,
   "metadata": {},
   "outputs": [],
   "source": [
    "#creating backwards time list\n",
    "datelist = pd.date_range(end=pd.datetime.today(), periods=3, freq='M', normalize=bool)\n",
    "datelist = datelist.strftime('%Y-%m').tolist()\n",
    "string1= \"&month=\"\n",
    "myurls=[]\n",
    "for x in datelist:\n",
    "    myurls.append(my_url+string1+str(x))\n",
    "myurls.append(my_url)\n",
    "#getting URLS\n"
   ]
  },
  {
   "cell_type": "code",
   "execution_count": 6,
   "metadata": {},
   "outputs": [],
   "source": [
    "def make_soup(url):\n",
    "    thepage=urllib.request.urlopen(url)\n",
    "    soupdata=soup(thepage,\"html.parser\")\n",
    "    return soupdata"
   ]
  },
  {
   "cell_type": "code",
   "execution_count": 8,
   "metadata": {
    "scrolled": false
   },
   "outputs": [],
   "source": [
    "#getting basic data\n",
    "ipodatasaved=[]\n",
    "newurls=[]  \n",
    "for eachurl in myurls:\n",
    "    soup1= make_soup(eachurl)  \n",
    "    time.sleep(3)\n",
    "    for record in soup1.findAll(\"div\",{\"class\":\"genTable\"})[:1]:\n",
    "        if record==['\\r', '\\t\\t\\t\\tThere is no data for this month, please select a prior month.\\r', '\\t\\t\\t']:\n",
    "            continue\n",
    "        else:\n",
    "            for data in record.findAll('tr')[1:]:\n",
    "                ipodata=[]\n",
    "\n",
    "                \n",
    "                for element in data.findAll('td'):\n",
    "                    if element.text == None:\n",
    "                        continue\n",
    "                    else:\n",
    "                        (ipodata.append(element.text))\n",
    "                    \n",
    "                    if element.a == None:\n",
    "                        continue\n",
    "                    else:\n",
    "                        newurls.append(element.a['href'])\n",
    "    \n",
    "                ipodatasaved.append(ipodata)\n",
    "       "
   ]
  },
  {
   "cell_type": "code",
   "execution_count": 9,
   "metadata": {
    "scrolled": false
   },
   "outputs": [],
   "source": [
    "ipodatasaved3= np.reshape(ipodatasaved,(-1,7))\n",
    "df6= pd.DataFrame(ipodatasaved3, columns=(\"company_name\", \"symbol\",\" market\", \"price\", 'shares', 'offer_amount', 'date_priced'))\n",
    "\n",
    "\n",
    "\n",
    "approved=['markets/ipos/company/']\n",
    "newurls1 = [url for url in newurls if any(sub in url for sub in approved)]\n",
    "newurls2=pd.DataFrame(newurls1)\n",
    "#getting urls for each stock\n",
    "\n",
    "financeurls=[]\n",
    "fin=\"?tab=financials\"\n",
    "for x in newurls1:\n",
    "    financeurls.append(x+fin)\n",
    "# financeurls\n",
    "financeurls=pd.DataFrame(financeurls)\n"
   ]
  },
  {
   "cell_type": "code",
   "execution_count": 10,
   "metadata": {},
   "outputs": [
    {
     "name": "stdout",
     "output_type": "stream",
     "text": [
      "<td>2,446,582</td>\n",
      "<td>31,862,017</td>\n",
      "<td>13,640,982</td>\n",
      "<td>2,600,000</td>\n",
      "<td>25,000,000</td>\n",
      "<td>25,250,000</td>\n",
      "<td>35,537,500</td>\n",
      "<td>4,500,000</td>\n",
      "<td>16,732,925</td>\n",
      "<td>16,918,354</td>\n",
      "<td>9,420,765</td>\n",
      "<td>68,021,702</td>\n",
      "<td>12,000,000</td>\n",
      "<td>26,114,993</td>\n",
      "<td>7,678,621</td>\n",
      "<td>8,750,000</td>\n",
      "<td>3,100,000</td>\n",
      "<td>24,000,000</td>\n",
      "<td>25,600,000</td>\n",
      "<td>84,457,323</td>\n",
      "<td>16,250,000</td>\n",
      "<td>30,230,319</td>\n",
      "<td>11,939,176</td>\n",
      "<td>328,948,088</td>\n",
      "<td>4,750,000</td>\n",
      "<td>20,000,000</td>\n",
      "<td>25,000,000</td>\n",
      "<td>12,875,000</td>\n",
      "<td>11,980,000</td>\n",
      "<td>19,800,000</td>\n",
      "<td>23,750,000</td>\n",
      "<td>15,597,624</td>\n",
      "<td>6,500,000</td>\n",
      "<td>9,424,574</td>\n",
      "<td>17,060,631</td>\n",
      "<td>23,189,901</td>\n",
      "<td>7,243,024</td>\n",
      "<td>7,419,874</td>\n",
      "<td>63,276,910</td>\n",
      "<td>23,909,025</td>\n",
      "<td>20,000,000</td>\n",
      "<td>19,400,000</td>\n",
      "<td>68,365,044</td>\n",
      "<td>6,497,500</td>\n",
      "<td>11,219,441</td>\n",
      "<td>46,875,000</td>\n"
     ]
    }
   ],
   "source": [
    "#finding lockup expiration\n",
    "lockup=[]\n",
    "shares=[]\n",
    "\n",
    "for eachurl in newurls1: \n",
    "    soup1= make_soup(eachurl) \n",
    "    time.sleep(3)\n",
    "    for record in soup1.findAll(\"div\",{\"class\":\"genTable\"})[:1]:\n",
    "            for x in record.findAll('td'):\n",
    "                if x.find(text=\"Shares Outstanding\")!= None:\n",
    "                    #print(x.findNextSibling())\n",
    "                    shares.append(x.findNextSibling().text)\n",
    "                else:\n",
    "                    pass\n",
    "                \n",
    "                if x.find(text=\"Lockup Expiration\")!=None:\n",
    "                    lockup.append(x.findNextSibling().text)\n",
    "                else:\n",
    "                    continue  \n",
    "\n"
   ]
  },
  {
   "cell_type": "code",
   "execution_count": 11,
   "metadata": {},
   "outputs": [],
   "source": [
    "\n",
    "lockup1=pd.DataFrame(lockup)\n",
    "shares1=pd.DataFrame(shares)\n"
   ]
  },
  {
   "cell_type": "code",
   "execution_count": 16,
   "metadata": {
    "scrolled": false
   },
   "outputs": [],
   "source": [
    "#getting revenue and profit\n",
    "# url=https://www.nasdaq.com/markets/ipos/company/iqiyi-inc-1046890-86160?tab=experts\n",
    "revenue=[]\n",
    "profit=[]\n",
    "\n",
    "for urls in financeurls[0]:\n",
    "    soup2=make_soup(urls)\n",
    "    time.sleep(3)\n",
    "    for record in soup2.findAll(\"div\",{\"class\":\"genTable\"}):\n",
    "        for x in record.findAll('td'):\n",
    "            if x.find(text=\"Revenue\")!= None:\n",
    "                revenue.append(x.findNextSibling().text)\n",
    "            else:\n",
    "                pass\n",
    "                \n",
    "            if x.find(text=\"Net Income\")!=None:\n",
    "                profit.append(x.findNextSibling().text)\n",
    "            else:\n",
    "                continue\n"
   ]
  },
  {
   "cell_type": "code",
   "execution_count": 47,
   "metadata": {},
   "outputs": [],
   "source": [
    "\n",
    "revenue1=pd.DataFrame(revenue)\n",
    "profit1=pd.DataFrame(profit)\n"
   ]
  },
  {
   "cell_type": "code",
   "execution_count": 68,
   "metadata": {},
   "outputs": [],
   "source": [
    "ipodatasaved4= np.reshape(ipodatasaved3,(-1,7))\n",
    "df6= pd.DataFrame(ipodatasaved4, columns=(\"company_name\", \"symbol\",\" market\", \"price\", 'shares', 'offer_amount', 'date_priced'))\n",
    "\n",
    "df7 =lockup1.join(shares1,lsuffix='_Lockupdate')\n",
    "df7=df7.join(revenue1,lsuffix='_Sharesout')\n",
    "df7=df7.join(profit1,lsuffix ='_Revenue')\n",
    "df7.columns=['Lockupdate','Sharesoutstand','Revenue','Profit']\n",
    "df8=df6.join(df7)\n",
    "\n"
   ]
  },
  {
   "cell_type": "code",
   "execution_count": null,
   "metadata": {},
   "outputs": [],
   "source": []
  }
 ],
 "metadata": {
  "anaconda-cloud": {},
  "kernelspec": {
   "display_name": "Python 3",
   "language": "python",
   "name": "python3"
  },
  "language_info": {
   "codemirror_mode": {
    "name": "ipython",
    "version": 3
   },
   "file_extension": ".py",
   "mimetype": "text/x-python",
   "name": "python",
   "nbconvert_exporter": "python",
   "pygments_lexer": "ipython3",
   "version": "3.6.4"
  }
 },
 "nbformat": 4,
 "nbformat_minor": 1
}
